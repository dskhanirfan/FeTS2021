{
 "cells": [
  {
   "cell_type": "code",
   "execution_count": 77,
   "id": "caabfd73",
   "metadata": {},
   "outputs": [],
   "source": [
    "import pandas as pd\n",
    "import numpy as np\n",
    "import matplotlib.pyplot as plt\n",
    "import mplcursors"
   ]
  },
  {
   "cell_type": "code",
   "execution_count": 134,
   "id": "5749cea2",
   "metadata": {},
   "outputs": [
    {
     "name": "stdout",
     "output_type": "stream",
     "text": [
      " dataset has 349 samples with 13 features each.\n"
     ]
    }
   ],
   "source": [
    "try:\n",
    "    data = pd.read_csv(\"/Volumes/B/Downloads/Experiments Summary - Sheet1 (5).csv\", delimiter=\",\")#,nrows=10000)#,nrows=10000\n",
    "    print(\" dataset has {} samples with {} features each.\".format(*data.shape))\n",
    "except:\n",
    "    print(\"Dataset could not be loaded. Is the dataset missing?\")"
   ]
  },
  {
   "cell_type": "code",
   "execution_count": 135,
   "id": "321b3684",
   "metadata": {},
   "outputs": [
    {
     "data": {
      "text/html": [
       "<div>\n",
       "<style scoped>\n",
       "    .dataframe tbody tr th:only-of-type {\n",
       "        vertical-align: middle;\n",
       "    }\n",
       "\n",
       "    .dataframe tbody tr th {\n",
       "        vertical-align: top;\n",
       "    }\n",
       "\n",
       "    .dataframe thead th {\n",
       "        text-align: right;\n",
       "    }\n",
       "</style>\n",
       "<table border=\"1\" class=\"dataframe\">\n",
       "  <thead>\n",
       "    <tr style=\"text-align: right;\">\n",
       "      <th></th>\n",
       "      <th>Rounds</th>\n",
       "      <th>Metrics</th>\n",
       "      <th>WA_All_par_1</th>\n",
       "      <th>WA_All_par_2</th>\n",
       "      <th>WA_col10_part_1</th>\n",
       "      <th>WA_col10_part_2</th>\n",
       "      <th>WA_col20_part_2</th>\n",
       "      <th>WA_col50_part_2</th>\n",
       "      <th>WA_col10_part_3</th>\n",
       "      <th>ESA_All_par_1</th>\n",
       "      <th>CTA_All_par_1_Thr_0.35</th>\n",
       "      <th>CTA_10_par_1_Thr_0.35</th>\n",
       "      <th>CTA_10_par_2_Thr_0.35</th>\n",
       "    </tr>\n",
       "  </thead>\n",
       "  <tbody>\n",
       "    <tr>\n",
       "      <th>1</th>\n",
       "      <td>0.0</td>\n",
       "      <td>Simulation Time (minutes)</td>\n",
       "      <td>27.390000</td>\n",
       "      <td>1.494000e+01</td>\n",
       "      <td>10.160000</td>\n",
       "      <td>5.310000</td>\n",
       "      <td>9.930000e+00</td>\n",
       "      <td>14.940000</td>\n",
       "      <td>11.260000</td>\n",
       "      <td>27.390000</td>\n",
       "      <td>27.390000</td>\n",
       "      <td>8.670000</td>\n",
       "      <td>11.330000</td>\n",
       "    </tr>\n",
       "    <tr>\n",
       "      <th>2</th>\n",
       "      <td>0.0</td>\n",
       "      <td>Projected Convergence Score</td>\n",
       "      <td>0.027585</td>\n",
       "      <td>2.017607e-02</td>\n",
       "      <td>0.023772</td>\n",
       "      <td>0.181144</td>\n",
       "      <td>1.437384e-01</td>\n",
       "      <td>0.093129</td>\n",
       "      <td>0.031114</td>\n",
       "      <td>0.023516</td>\n",
       "      <td>0.013332</td>\n",
       "      <td>0.033436</td>\n",
       "      <td>0.131824</td>\n",
       "    </tr>\n",
       "    <tr>\n",
       "      <th>3</th>\n",
       "      <td>0.0</td>\n",
       "      <td>Binary DICE WT</td>\n",
       "      <td>0.060016</td>\n",
       "      <td>5.710000e-13</td>\n",
       "      <td>0.000002</td>\n",
       "      <td>0.503604</td>\n",
       "      <td>2.194941e-01</td>\n",
       "      <td>0.050958</td>\n",
       "      <td>0.083451</td>\n",
       "      <td>0.041143</td>\n",
       "      <td>0.000063</td>\n",
       "      <td>0.099057</td>\n",
       "      <td>0.000252</td>\n",
       "    </tr>\n",
       "    <tr>\n",
       "      <th>4</th>\n",
       "      <td>0.0</td>\n",
       "      <td>Binary DICE ET</td>\n",
       "      <td>0.009464</td>\n",
       "      <td>3.435366e-02</td>\n",
       "      <td>0.054206</td>\n",
       "      <td>0.017679</td>\n",
       "      <td>4.460000e-11</td>\n",
       "      <td>0.011833</td>\n",
       "      <td>0.006555</td>\n",
       "      <td>0.014615</td>\n",
       "      <td>0.000872</td>\n",
       "      <td>0.000980</td>\n",
       "      <td>0.033958</td>\n",
       "    </tr>\n",
       "    <tr>\n",
       "      <th>5</th>\n",
       "      <td>0.0</td>\n",
       "      <td>Binary DICE TC</td>\n",
       "      <td>0.013276</td>\n",
       "      <td>2.617455e-02</td>\n",
       "      <td>0.017109</td>\n",
       "      <td>0.022148</td>\n",
       "      <td>2.117210e-01</td>\n",
       "      <td>0.216597</td>\n",
       "      <td>0.003336</td>\n",
       "      <td>0.014792</td>\n",
       "      <td>0.039061</td>\n",
       "      <td>0.000272</td>\n",
       "      <td>0.361263</td>\n",
       "    </tr>\n",
       "  </tbody>\n",
       "</table>\n",
       "</div>"
      ],
      "text/plain": [
       "   Rounds                      Metrics  WA_All_par_1  WA_All_par_2  \\\n",
       "1     0.0    Simulation Time (minutes)     27.390000  1.494000e+01   \n",
       "2     0.0  Projected Convergence Score      0.027585  2.017607e-02   \n",
       "3     0.0               Binary DICE WT      0.060016  5.710000e-13   \n",
       "4     0.0               Binary DICE ET      0.009464  3.435366e-02   \n",
       "5     0.0               Binary DICE TC      0.013276  2.617455e-02   \n",
       "\n",
       "   WA_col10_part_1  WA_col10_part_2  WA_col20_part_2  WA_col50_part_2  \\\n",
       "1        10.160000         5.310000     9.930000e+00        14.940000   \n",
       "2         0.023772         0.181144     1.437384e-01         0.093129   \n",
       "3         0.000002         0.503604     2.194941e-01         0.050958   \n",
       "4         0.054206         0.017679     4.460000e-11         0.011833   \n",
       "5         0.017109         0.022148     2.117210e-01         0.216597   \n",
       "\n",
       "   WA_col10_part_3  ESA_All_par_1  CTA_All_par_1_Thr_0.35  \\\n",
       "1        11.260000      27.390000               27.390000   \n",
       "2         0.031114       0.023516                0.013332   \n",
       "3         0.083451       0.041143                0.000063   \n",
       "4         0.006555       0.014615                0.000872   \n",
       "5         0.003336       0.014792                0.039061   \n",
       "\n",
       "   CTA_10_par_1_Thr_0.35  CTA_10_par_2_Thr_0.35  \n",
       "1               8.670000              11.330000  \n",
       "2               0.033436               0.131824  \n",
       "3               0.099057               0.000252  \n",
       "4               0.000980               0.033958  \n",
       "5               0.000272               0.361263  "
      ]
     },
     "execution_count": 135,
     "metadata": {},
     "output_type": "execute_result"
    }
   ],
   "source": [
    "data = data.dropna(how='all')\n",
    "data.head()"
   ]
  },
  {
   "cell_type": "code",
   "execution_count": 136,
   "id": "0c25354d",
   "metadata": {},
   "outputs": [],
   "source": [
    "#myarray = ['WA_All_par_1','WA_All_par_2','WA_col10_part_1','WA_col10_part_2','WA_col20_part_2','WA_col50_part_2','WA_col10_part_3','ESA_All_par_1','CTA_All_par_1_Thr_0.35']\n",
    "myarray = ['CTA_10_par_2_Thr_0.35']\n"
   ]
  },
  {
   "cell_type": "code",
   "execution_count": 137,
   "id": "6e626ec8",
   "metadata": {},
   "outputs": [
    {
     "name": "stdout",
     "output_type": "stream",
     "text": [
      "Using matplotlib backend: MacOSX\n",
      "Populating the interactive namespace from numpy and matplotlib\n"
     ]
    }
   ],
   "source": [
    "for c in myarray:\n",
    "    \n",
    "\n",
    "    data1 = data[['Rounds','Metrics',c]].dropna()\n",
    "    data1.head()\n",
    "\n",
    "    data1= data1.pivot(index='Rounds', columns='Metrics', values=c).reset_index().rename_axis(columns=None)\n",
    "    data1.dropna(how='all')\n",
    "    data1.head()\n",
    "\n",
    "    data1['Simulation Time (minutes)'] = data1['Simulation Time (minutes)'].div(60).round(2)\n",
    "    #data1\n",
    "\n",
    "    %pylab\n",
    "\n",
    "    fig, axs = plt.subplots(8, sharex=True, sharey=False)#subplot_kw=dict(projection='polar')\n",
    "    fig.set_size_inches(10, 8)\n",
    "    #texts('WA_All_par_1')\n",
    "    axs[0].plot(data1['Rounds'], data1['Binary DICE WT'], color='red')\n",
    "    axs[0].set_xlabel('Rounds')\n",
    "    axs[0].set_ylabel(\"DWT\")\n",
    "    #axs[0].set_ylim([0.,0.5])\n",
    "\n",
    "    axs[1].plot(data1['Rounds'], data1['Binary DICE ET'], color='blue')\n",
    "    axs[1].set_xlabel('Rounds')\n",
    "    axs[1].set_ylabel(\"DET\")\n",
    "    #axs[1].set_ylim([0.,70])\n",
    "\n",
    "    axs[2].plot(data1['Rounds'], data1['Binary DICE TC'], color='pink')\n",
    "    axs[2].set_xlabel('Rounds')\n",
    "    axs[2].set_ylabel(\"DTC\")\n",
    "\n",
    "    axs[3].plot(data1['Rounds'], data1['Hausdorff95 WT'], color='cyan')\n",
    "    axs[3].set_xlabel('Rounds')\n",
    "    axs[3].set_ylabel(\"HWT\")\n",
    "\n",
    "    axs[4].plot(data1['Rounds'], data1['Hausdorff95 ET'], color='olive')\n",
    "    axs[4].set_xlabel('Rounds')\n",
    "    axs[4].set_ylabel(\"HET\")\n",
    "\n",
    "    axs[5].plot(data1['Rounds'], data1['Hausdorff95 TC'], color='purple')\n",
    "    axs[5].set_xlabel('Rounds')\n",
    "    axs[5].set_ylabel(\"HTC\")\n",
    "\n",
    "    axs[6].plot(data1['Rounds'], data1['Projected Convergence Score'], color='green')\n",
    "    axs[6].set_xlabel('Rounds')\n",
    "    axs[6].set_ylabel(\"Score\")\n",
    "\n",
    "    axs[7].plot(data1['Rounds'], data1['Simulation Time (minutes)'], color='brown')\n",
    "    axs[7].set_xlabel('Rounds')\n",
    "    axs[7].set_ylabel(\"Time\")\n",
    "\n",
    "    #axs.set_title('Title')\n",
    "    mplcursors.cursor(hover=True)\n",
    "    #c+'.png'\n",
    "    #plt.savefig(\"CTA_All_par_1_Thr_0.35.png\")\n",
    "    plt.show()"
   ]
  },
  {
   "cell_type": "code",
   "execution_count": 8,
   "id": "27c787f8",
   "metadata": {},
   "outputs": [
    {
     "data": {
      "text/html": [
       "<div>\n",
       "<style scoped>\n",
       "    .dataframe tbody tr th:only-of-type {\n",
       "        vertical-align: middle;\n",
       "    }\n",
       "\n",
       "    .dataframe tbody tr th {\n",
       "        vertical-align: top;\n",
       "    }\n",
       "\n",
       "    .dataframe thead th {\n",
       "        text-align: right;\n",
       "    }\n",
       "</style>\n",
       "<table border=\"1\" class=\"dataframe\">\n",
       "  <thead>\n",
       "    <tr style=\"text-align: right;\">\n",
       "      <th></th>\n",
       "      <th>Rounds</th>\n",
       "      <th>Metrics</th>\n",
       "      <th>WA_All_par_1</th>\n",
       "    </tr>\n",
       "  </thead>\n",
       "  <tbody>\n",
       "    <tr>\n",
       "      <th>1</th>\n",
       "      <td>0.0</td>\n",
       "      <td>Simulation Time (minutes)</td>\n",
       "      <td>27.390000</td>\n",
       "    </tr>\n",
       "    <tr>\n",
       "      <th>2</th>\n",
       "      <td>0.0</td>\n",
       "      <td>Projected Convergence Score</td>\n",
       "      <td>0.027585</td>\n",
       "    </tr>\n",
       "    <tr>\n",
       "      <th>3</th>\n",
       "      <td>0.0</td>\n",
       "      <td>Binary DICE WT</td>\n",
       "      <td>0.060016</td>\n",
       "    </tr>\n",
       "    <tr>\n",
       "      <th>4</th>\n",
       "      <td>0.0</td>\n",
       "      <td>Binary DICE ET</td>\n",
       "      <td>0.009464</td>\n",
       "    </tr>\n",
       "    <tr>\n",
       "      <th>5</th>\n",
       "      <td>0.0</td>\n",
       "      <td>Binary DICE TC</td>\n",
       "      <td>0.013276</td>\n",
       "    </tr>\n",
       "  </tbody>\n",
       "</table>\n",
       "</div>"
      ],
      "text/plain": [
       "   Rounds                      Metrics  WA_All_par_1\n",
       "1     0.0    Simulation Time (minutes)     27.390000\n",
       "2     0.0  Projected Convergence Score      0.027585\n",
       "3     0.0               Binary DICE WT      0.060016\n",
       "4     0.0               Binary DICE ET      0.009464\n",
       "5     0.0               Binary DICE TC      0.013276"
      ]
     },
     "execution_count": 8,
     "metadata": {},
     "output_type": "execute_result"
    }
   ],
   "source": [
    "data2 = data[['Rounds','Metrics','WA_All_par_1']].dropna()\n",
    "\n",
    "data2.head()"
   ]
  },
  {
   "cell_type": "code",
   "execution_count": 9,
   "id": "4ff39e18",
   "metadata": {},
   "outputs": [
    {
     "data": {
      "text/html": [
       "<div>\n",
       "<style scoped>\n",
       "    .dataframe tbody tr th:only-of-type {\n",
       "        vertical-align: middle;\n",
       "    }\n",
       "\n",
       "    .dataframe tbody tr th {\n",
       "        vertical-align: top;\n",
       "    }\n",
       "\n",
       "    .dataframe thead th {\n",
       "        text-align: right;\n",
       "    }\n",
       "</style>\n",
       "<table border=\"1\" class=\"dataframe\">\n",
       "  <thead>\n",
       "    <tr style=\"text-align: right;\">\n",
       "      <th></th>\n",
       "      <th>Rounds</th>\n",
       "      <th>Metrics</th>\n",
       "      <th>WA_All_par_1</th>\n",
       "    </tr>\n",
       "  </thead>\n",
       "  <tbody>\n",
       "    <tr>\n",
       "      <th>1</th>\n",
       "      <td>0.0</td>\n",
       "      <td>Simulation Time (minutes)</td>\n",
       "      <td>0.456500</td>\n",
       "    </tr>\n",
       "    <tr>\n",
       "      <th>2</th>\n",
       "      <td>0.0</td>\n",
       "      <td>Projected Convergence Score</td>\n",
       "      <td>0.027585</td>\n",
       "    </tr>\n",
       "    <tr>\n",
       "      <th>3</th>\n",
       "      <td>0.0</td>\n",
       "      <td>Binary DICE WT</td>\n",
       "      <td>0.060016</td>\n",
       "    </tr>\n",
       "    <tr>\n",
       "      <th>4</th>\n",
       "      <td>0.0</td>\n",
       "      <td>Binary DICE ET</td>\n",
       "      <td>0.009464</td>\n",
       "    </tr>\n",
       "    <tr>\n",
       "      <th>5</th>\n",
       "      <td>0.0</td>\n",
       "      <td>Binary DICE TC</td>\n",
       "      <td>0.013276</td>\n",
       "    </tr>\n",
       "    <tr>\n",
       "      <th>...</th>\n",
       "      <td>...</td>\n",
       "      <td>...</td>\n",
       "      <td>...</td>\n",
       "    </tr>\n",
       "    <tr>\n",
       "      <th>154</th>\n",
       "      <td>15.0</td>\n",
       "      <td>Binary DICE ET</td>\n",
       "      <td>0.831129</td>\n",
       "    </tr>\n",
       "    <tr>\n",
       "      <th>155</th>\n",
       "      <td>15.0</td>\n",
       "      <td>Binary DICE TC</td>\n",
       "      <td>0.871030</td>\n",
       "    </tr>\n",
       "    <tr>\n",
       "      <th>156</th>\n",
       "      <td>15.0</td>\n",
       "      <td>Hausdorff95 WT</td>\n",
       "      <td>4.391631</td>\n",
       "    </tr>\n",
       "    <tr>\n",
       "      <th>157</th>\n",
       "      <td>15.0</td>\n",
       "      <td>Hausdorff95 ET</td>\n",
       "      <td>2.196835</td>\n",
       "    </tr>\n",
       "    <tr>\n",
       "      <th>158</th>\n",
       "      <td>15.0</td>\n",
       "      <td>Hausdorff95 TC</td>\n",
       "      <td>2.462551</td>\n",
       "    </tr>\n",
       "  </tbody>\n",
       "</table>\n",
       "<p>128 rows × 3 columns</p>\n",
       "</div>"
      ],
      "text/plain": [
       "     Rounds                      Metrics  WA_All_par_1\n",
       "1       0.0    Simulation Time (minutes)      0.456500\n",
       "2       0.0  Projected Convergence Score      0.027585\n",
       "3       0.0               Binary DICE WT      0.060016\n",
       "4       0.0               Binary DICE ET      0.009464\n",
       "5       0.0               Binary DICE TC      0.013276\n",
       "..      ...                          ...           ...\n",
       "154    15.0               Binary DICE ET      0.831129\n",
       "155    15.0               Binary DICE TC      0.871030\n",
       "156    15.0               Hausdorff95 WT      4.391631\n",
       "157    15.0               Hausdorff95 ET      2.196835\n",
       "158    15.0               Hausdorff95 TC      2.462551\n",
       "\n",
       "[128 rows x 3 columns]"
      ]
     },
     "execution_count": 9,
     "metadata": {},
     "output_type": "execute_result"
    }
   ],
   "source": [
    "#data2['Simulation Time (minutes)'] = data2['Simulation Time (minutes)'].div(60).round(2)\n",
    "data2['WA_All_par_1'] = np.where(data2['Metrics'].eq('Simulation Time (minutes)'),\n",
    "                              data2['WA_All_par_1'] / 60, \n",
    "                              data2['WA_All_par_1'])\n",
    "data2"
   ]
  },
  {
   "cell_type": "code",
   "execution_count": 10,
   "id": "5d59fec8",
   "metadata": {},
   "outputs": [
    {
     "name": "stdout",
     "output_type": "stream",
     "text": [
      "Using matplotlib backend: MacOSX\n",
      "Populating the interactive namespace from numpy and matplotlib\n"
     ]
    },
    {
     "data": {
      "text/plain": [
       "<mplcursors._mplcursors.Cursor at 0x7f987360b460>"
      ]
     },
     "execution_count": 10,
     "metadata": {},
     "output_type": "execute_result"
    }
   ],
   "source": [
    "%pylab\n",
    "(data2.set_index(['Rounds','Metrics'])\n",
    " .unstack(1)\n",
    " .droplevel(0,axis=1)\n",
    " .sort_index(1,ascending=False)\n",
    " .plot(figsize=(15,5),kind='bar',legend=True))\n",
    "mplcursors.cursor(hover=True)"
   ]
  },
  {
   "cell_type": "code",
   "execution_count": 83,
   "id": "3925fd4c",
   "metadata": {},
   "outputs": [
    {
     "name": "stdout",
     "output_type": "stream",
     "text": [
      "/Volumes/B/Basecamp/FL_Step_by_Step_Implementation_in_Tensorflow/MICCAI_FeTS2021_TrainingData\r\n"
     ]
    }
   ],
   "source": [
    "!pwd"
   ]
  },
  {
   "cell_type": "code",
   "execution_count": 10,
   "id": "412074db",
   "metadata": {},
   "outputs": [
    {
     "data": {
      "text/plain": [
       "[8, 14]"
      ]
     },
     "execution_count": 10,
     "metadata": {},
     "output_type": "execute_result"
    }
   ],
   "source": [
    "import random\n",
    "percentage = 0.1\n",
    "for i in range(5):\n",
    "    collaborators = [3,6,9,8,7,1,2,4,5,19,10,11,12,13,14,15,16,17,18,20]\n",
    "    random.sample(range(len(collaborators)), int(max(1,percentage * len(collaborators))))"
   ]
  },
  {
   "cell_type": "code",
   "execution_count": 11,
   "id": "3f8261f0",
   "metadata": {},
   "outputs": [
    {
     "data": {
      "text/plain": [
       "[15, 12]"
      ]
     },
     "execution_count": 11,
     "metadata": {},
     "output_type": "execute_result"
    }
   ],
   "source": [
    "import random\n",
    "percentage = 0.1\n",
    "desired_length = 5\n",
    "my_array = [3,6,9,8,7,1,2,4,5,19,10,11,12,13,14,15,16,17,18,20]\n",
    "random.sample(range(len(my_array)), int(max(1,percentage * len(my_array))))"
   ]
  },
  {
   "cell_type": "code",
   "execution_count": 13,
   "id": "331028d1",
   "metadata": {},
   "outputs": [
    {
     "data": {
      "text/plain": [
       "[3, 6, 9, 8, 7]"
      ]
     },
     "execution_count": 13,
     "metadata": {},
     "output_type": "execute_result"
    }
   ],
   "source": [
    "my_array[:desired_length]"
   ]
  },
  {
   "cell_type": "code",
   "execution_count": 46,
   "id": "caff5564",
   "metadata": {},
   "outputs": [
    {
     "name": "stdout",
     "output_type": "stream",
     "text": [
      "[0]\n",
      "[0]\n",
      "[0]\n",
      "[0]\n"
     ]
    },
    {
     "ename": "ValueError",
     "evalue": "Sample larger than population or is negative",
     "output_type": "error",
     "traceback": [
      "\u001b[0;31m---------------------------------------------------------------------------\u001b[0m",
      "\u001b[0;31mValueError\u001b[0m                                Traceback (most recent call last)",
      "\u001b[0;32m<ipython-input-46-3e4b79d8bc13>\u001b[0m in \u001b[0;36m<module>\u001b[0;34m\u001b[0m\n\u001b[1;32m      4\u001b[0m \u001b[0mmy_array\u001b[0m \u001b[0;34m=\u001b[0m \u001b[0;34m[\u001b[0m\u001b[0;36m1\u001b[0m\u001b[0;34m,\u001b[0m\u001b[0;36m2\u001b[0m\u001b[0;34m,\u001b[0m\u001b[0;36m3\u001b[0m\u001b[0;34m,\u001b[0m\u001b[0;36m4\u001b[0m\u001b[0;34m,\u001b[0m\u001b[0;36m5\u001b[0m\u001b[0;34m,\u001b[0m\u001b[0;36m6\u001b[0m\u001b[0;34m,\u001b[0m\u001b[0;36m7\u001b[0m\u001b[0;34m,\u001b[0m\u001b[0;36m8\u001b[0m\u001b[0;34m,\u001b[0m\u001b[0;36m9\u001b[0m\u001b[0;34m,\u001b[0m\u001b[0;36m10\u001b[0m\u001b[0;34m,\u001b[0m\u001b[0;36m11\u001b[0m\u001b[0;34m,\u001b[0m\u001b[0;36m12\u001b[0m\u001b[0;34m,\u001b[0m\u001b[0;36m13\u001b[0m\u001b[0;34m,\u001b[0m\u001b[0;36m14\u001b[0m\u001b[0;34m,\u001b[0m\u001b[0;36m15\u001b[0m\u001b[0;34m,\u001b[0m\u001b[0;36m16\u001b[0m\u001b[0;34m,\u001b[0m\u001b[0;36m17\u001b[0m\u001b[0;34m,\u001b[0m\u001b[0;36m18\u001b[0m\u001b[0;34m,\u001b[0m\u001b[0;36m19\u001b[0m\u001b[0;34m,\u001b[0m\u001b[0;36m20\u001b[0m\u001b[0;34m]\u001b[0m\u001b[0;34m\u001b[0m\u001b[0;34m\u001b[0m\u001b[0m\n\u001b[1;32m      5\u001b[0m \u001b[0;32mfor\u001b[0m \u001b[0mi\u001b[0m \u001b[0;32min\u001b[0m \u001b[0mrange\u001b[0m\u001b[0;34m(\u001b[0m\u001b[0;36m5\u001b[0m\u001b[0;34m)\u001b[0m\u001b[0;34m:\u001b[0m\u001b[0;34m\u001b[0m\u001b[0;34m\u001b[0m\u001b[0m\n\u001b[0;32m----> 6\u001b[0;31m     \u001b[0mprint\u001b[0m\u001b[0;34m(\u001b[0m\u001b[0mrandom\u001b[0m\u001b[0;34m.\u001b[0m\u001b[0msample\u001b[0m\u001b[0;34m(\u001b[0m\u001b[0mrange\u001b[0m\u001b[0;34m(\u001b[0m\u001b[0mlen\u001b[0m\u001b[0;34m(\u001b[0m\u001b[0mmy_array\u001b[0m\u001b[0;34m[\u001b[0m\u001b[0mdesired_length\u001b[0m\u001b[0;34m-\u001b[0m\u001b[0;36m1\u001b[0m\u001b[0;34m:\u001b[0m\u001b[0mdesired_length\u001b[0m\u001b[0;34m]\u001b[0m\u001b[0;34m)\u001b[0m\u001b[0;34m)\u001b[0m\u001b[0;34m,\u001b[0m \u001b[0mint\u001b[0m\u001b[0;34m(\u001b[0m\u001b[0mmax\u001b[0m\u001b[0;34m(\u001b[0m\u001b[0;36m1\u001b[0m\u001b[0;34m,\u001b[0m\u001b[0mpercentage\u001b[0m \u001b[0;34m*\u001b[0m \u001b[0mlen\u001b[0m\u001b[0;34m(\u001b[0m\u001b[0mmy_array\u001b[0m\u001b[0;34m[\u001b[0m\u001b[0mdesired_length\u001b[0m\u001b[0;34m-\u001b[0m\u001b[0;36m1\u001b[0m\u001b[0;34m:\u001b[0m\u001b[0mdesired_length\u001b[0m\u001b[0;34m]\u001b[0m\u001b[0;34m)\u001b[0m\u001b[0;34m)\u001b[0m\u001b[0;34m)\u001b[0m\u001b[0;34m)\u001b[0m\u001b[0;34m)\u001b[0m\u001b[0;34m\u001b[0m\u001b[0;34m\u001b[0m\u001b[0m\n\u001b[0m\u001b[1;32m      7\u001b[0m     \u001b[0mdesired_length\u001b[0m \u001b[0;34m=\u001b[0m \u001b[0mdesired_length\u001b[0m \u001b[0;34m+\u001b[0m \u001b[0;36m5\u001b[0m\u001b[0;34m\u001b[0m\u001b[0;34m\u001b[0m\u001b[0m\n",
      "\u001b[0;32m/Volumes/B/opt/anaconda3/lib/python3.8/random.py\u001b[0m in \u001b[0;36msample\u001b[0;34m(self, population, k)\u001b[0m\n\u001b[1;32m    361\u001b[0m         \u001b[0mn\u001b[0m \u001b[0;34m=\u001b[0m \u001b[0mlen\u001b[0m\u001b[0;34m(\u001b[0m\u001b[0mpopulation\u001b[0m\u001b[0;34m)\u001b[0m\u001b[0;34m\u001b[0m\u001b[0;34m\u001b[0m\u001b[0m\n\u001b[1;32m    362\u001b[0m         \u001b[0;32mif\u001b[0m \u001b[0;32mnot\u001b[0m \u001b[0;36m0\u001b[0m \u001b[0;34m<=\u001b[0m \u001b[0mk\u001b[0m \u001b[0;34m<=\u001b[0m \u001b[0mn\u001b[0m\u001b[0;34m:\u001b[0m\u001b[0;34m\u001b[0m\u001b[0;34m\u001b[0m\u001b[0m\n\u001b[0;32m--> 363\u001b[0;31m             \u001b[0;32mraise\u001b[0m \u001b[0mValueError\u001b[0m\u001b[0;34m(\u001b[0m\u001b[0;34m\"Sample larger than population or is negative\"\u001b[0m\u001b[0;34m)\u001b[0m\u001b[0;34m\u001b[0m\u001b[0;34m\u001b[0m\u001b[0m\n\u001b[0m\u001b[1;32m    364\u001b[0m         \u001b[0mresult\u001b[0m \u001b[0;34m=\u001b[0m \u001b[0;34m[\u001b[0m\u001b[0;32mNone\u001b[0m\u001b[0;34m]\u001b[0m \u001b[0;34m*\u001b[0m \u001b[0mk\u001b[0m\u001b[0;34m\u001b[0m\u001b[0;34m\u001b[0m\u001b[0m\n\u001b[1;32m    365\u001b[0m         \u001b[0msetsize\u001b[0m \u001b[0;34m=\u001b[0m \u001b[0;36m21\u001b[0m        \u001b[0;31m# size of a small set minus size of an empty list\u001b[0m\u001b[0;34m\u001b[0m\u001b[0;34m\u001b[0m\u001b[0m\n",
      "\u001b[0;31mValueError\u001b[0m: Sample larger than population or is negative"
     ]
    }
   ],
   "source": [
    "import random\n",
    "percentage = 0.1\n",
    "desired_length = 5\n",
    "my_array = [1,2,3,4,5,6,7,8,9,10,11,12,13,14,15,16,17,18,19,20]\n",
    "for i in range(5):\n",
    "    print(random.sample(range(len(my_array[desired_length-1:desired_length])), int(max(1,percentage * len(my_array[desired_length-1:desired_length])))))\n",
    "    desired_length = desired_length + 5"
   ]
  },
  {
   "cell_type": "code",
   "execution_count": 45,
   "id": "72e741d0",
   "metadata": {},
   "outputs": [
    {
     "data": {
      "text/plain": [
       "[]"
      ]
     },
     "execution_count": 45,
     "metadata": {},
     "output_type": "execute_result"
    }
   ],
   "source": [
    "my_array[desired_length-5:desired_length]"
   ]
  },
  {
   "cell_type": "code",
   "execution_count": 41,
   "id": "8e979e33",
   "metadata": {},
   "outputs": [
    {
     "data": {
      "text/plain": [
       "[11, 12, 13, 14, 15]"
      ]
     },
     "execution_count": 41,
     "metadata": {},
     "output_type": "execute_result"
    }
   ],
   "source": [
    "my_array[10:15]"
   ]
  },
  {
   "cell_type": "code",
   "execution_count": 47,
   "id": "540816df",
   "metadata": {},
   "outputs": [
    {
     "name": "stdout",
     "output_type": "stream",
     "text": [
      "0\n",
      "1\n",
      "2\n",
      "3\n",
      "4\n"
     ]
    }
   ],
   "source": [
    "for i in range(5):\n",
    "    print(i)"
   ]
  },
  {
   "cell_type": "code",
   "execution_count": 48,
   "id": "8e65d2a3",
   "metadata": {},
   "outputs": [
    {
     "name": "stdout",
     "output_type": "stream",
     "text": [
      "[9, 13]\n"
     ]
    },
    {
     "data": {
      "text/plain": [
       "[array([1, 2, 3, 4]),\n",
       " array([5, 6, 7, 8]),\n",
       " array([ 9, 10, 11, 12]),\n",
       " array([13, 14, 15, 16]),\n",
       " array([17, 18, 19, 20])]"
      ]
     },
     "execution_count": 48,
     "metadata": {},
     "output_type": "execute_result"
    }
   ],
   "source": [
    "import random\n",
    "percentage = 0.1\n",
    "desired_length = 5\n",
    "my_array = [1,2,3,4,5,6,7,8,9,10,11,12,13,14,15,16,17,18,19,20]\n",
    "print(random.sample(range(len(my_array[:])), int(max(1,percentage * len(my_array[:])))))\n",
    "\n",
    "import numpy as np\n",
    "chunks = np.array_split(my_array, 5)\n",
    "chunks"
   ]
  },
  {
   "cell_type": "code",
   "execution_count": 51,
   "id": "c9e45943",
   "metadata": {},
   "outputs": [
    {
     "name": "stdout",
     "output_type": "stream",
     "text": [
      "[3, 2]\n",
      "[2, 0]\n",
      "[1, 2]\n",
      "[3, 0]\n",
      "[3, 2]\n"
     ]
    }
   ],
   "source": [
    "percentage = 0.5\n",
    "\n",
    "for chunk in chunks:\n",
    "    print(random.sample(range(len(chunk)), int(max(1, percentage * len(chunk)))))"
   ]
  },
  {
   "cell_type": "code",
   "execution_count": 54,
   "id": "2739d91f",
   "metadata": {},
   "outputs": [],
   "source": [
    "import numpy as np\n",
    "percentage = 0.5\n",
    "my_array = [1,2,3,4,5,6,7,8,9,10,11,12,13,14,15,16,17,18,19,20, 21, 22, 23, 24, 25]\n",
    "\n",
    "chunks = np.array_split(my_array, 5)\n",
    "selected_items = [random.sample(list(chunk), int(max(1, percentage * len(chunk)))) for chunk in chunks]"
   ]
  },
  {
   "cell_type": "code",
   "execution_count": 55,
   "id": "642622bd",
   "metadata": {},
   "outputs": [
    {
     "data": {
      "text/plain": [
       "[[2, 5], [10, 9], [13, 14], [18, 17], [21, 22]]"
      ]
     },
     "execution_count": 55,
     "metadata": {},
     "output_type": "execute_result"
    }
   ],
   "source": [
    "selected_items"
   ]
  },
  {
   "cell_type": "code",
   "execution_count": 73,
   "id": "d1aacaad",
   "metadata": {},
   "outputs": [],
   "source": [
    "import numpy as np\n",
    "percentage = 0.5\n",
    "my_array = [1,2,3,4,5,6,7,8,9,10,11,12,13,14,15,16,17,18,19,20, 21, 22, 23, 24, 25]\n",
    "fl_round = 3\n",
    "chunks = np.array_split(my_array, fl_round)\n",
    "selected_items = [random.sample(list(chunk), int(max(1, percentage * len(chunk)))) for fl_round in chunks]"
   ]
  },
  {
   "cell_type": "code",
   "execution_count": 74,
   "id": "f91b09aa",
   "metadata": {},
   "outputs": [
    {
     "data": {
      "text/plain": [
       "[[18, 17], [20, 19], [20, 19]]"
      ]
     },
     "execution_count": 74,
     "metadata": {},
     "output_type": "execute_result"
    }
   ],
   "source": [
    "selected_items"
   ]
  },
  {
   "cell_type": "code",
   "execution_count": 84,
   "id": "a442744c",
   "metadata": {},
   "outputs": [
    {
     "ename": "TypeError",
     "evalue": "random_sample() takes at most 1 positional argument (2 given)",
     "output_type": "error",
     "traceback": [
      "\u001b[0;31m---------------------------------------------------------------------------\u001b[0m",
      "\u001b[0;31mTypeError\u001b[0m                                 Traceback (most recent call last)",
      "\u001b[0;32m<ipython-input-84-3126c4cc705f>\u001b[0m in \u001b[0;36m<module>\u001b[0;34m\u001b[0m\n\u001b[1;32m      2\u001b[0m \u001b[0mchunks\u001b[0m \u001b[0;34m=\u001b[0m \u001b[0mnp\u001b[0m\u001b[0;34m.\u001b[0m\u001b[0marray_split\u001b[0m\u001b[0;34m(\u001b[0m\u001b[0mmy_array\u001b[0m\u001b[0;34m,\u001b[0m \u001b[0;36m5\u001b[0m\u001b[0;34m)\u001b[0m\u001b[0;34m\u001b[0m\u001b[0;34m\u001b[0m\u001b[0m\n\u001b[1;32m      3\u001b[0m \u001b[0;32mfor\u001b[0m \u001b[0mi\u001b[0m\u001b[0;34m,\u001b[0m \u001b[0mchunk\u001b[0m \u001b[0;32min\u001b[0m \u001b[0menumerate\u001b[0m\u001b[0;34m(\u001b[0m\u001b[0mchunks\u001b[0m\u001b[0;34m)\u001b[0m\u001b[0;34m:\u001b[0m\u001b[0;34m\u001b[0m\u001b[0;34m\u001b[0m\u001b[0m\n\u001b[0;32m----> 4\u001b[0;31m     \u001b[0mselected_items\u001b[0m \u001b[0;34m=\u001b[0m \u001b[0mrandom\u001b[0m\u001b[0;34m.\u001b[0m\u001b[0msample\u001b[0m\u001b[0;34m(\u001b[0m\u001b[0mlist\u001b[0m\u001b[0;34m(\u001b[0m\u001b[0mchunk\u001b[0m\u001b[0;34m)\u001b[0m\u001b[0;34m,\u001b[0m \u001b[0mint\u001b[0m\u001b[0;34m(\u001b[0m\u001b[0mmax\u001b[0m\u001b[0;34m(\u001b[0m\u001b[0;36m1\u001b[0m\u001b[0;34m,\u001b[0m \u001b[0mpercentage\u001b[0m \u001b[0;34m*\u001b[0m \u001b[0mlen\u001b[0m\u001b[0;34m(\u001b[0m\u001b[0mchunk\u001b[0m\u001b[0;34m)\u001b[0m\u001b[0;34m)\u001b[0m\u001b[0;34m)\u001b[0m\u001b[0;34m)\u001b[0m\u001b[0;34m\u001b[0m\u001b[0;34m\u001b[0m\u001b[0m\n\u001b[0m\u001b[1;32m      5\u001b[0m     \u001b[0mprint\u001b[0m \u001b[0;34m(\u001b[0m\u001b[0;34m\"iteration \"\u001b[0m\u001b[0;34m,\u001b[0m \u001b[0mi\u001b[0m\u001b[0;34m+\u001b[0m\u001b[0;36m1\u001b[0m\u001b[0;34m,\u001b[0m \u001b[0;34m\": \"\u001b[0m\u001b[0;34m,\u001b[0m \u001b[0mselected_items\u001b[0m\u001b[0;34m)\u001b[0m\u001b[0;34m\u001b[0m\u001b[0;34m\u001b[0m\u001b[0m\n\u001b[1;32m      6\u001b[0m     \u001b[0;31m# do stuff with selected_items\u001b[0m\u001b[0;34m\u001b[0m\u001b[0;34m\u001b[0m\u001b[0;34m\u001b[0m\u001b[0m\n",
      "\u001b[0;32mmtrand.pyx\u001b[0m in \u001b[0;36mnumpy.random.mtrand.sample\u001b[0;34m()\u001b[0m\n",
      "\u001b[0;32mmtrand.pyx\u001b[0m in \u001b[0;36mnumpy.random.mtrand.RandomState.random_sample\u001b[0;34m()\u001b[0m\n",
      "\u001b[0;31mTypeError\u001b[0m: random_sample() takes at most 1 positional argument (2 given)"
     ]
    }
   ],
   "source": [
    "import numpy as np\n",
    "chunks = np.array_split(my_array, 5)\n",
    "for i, chunk in enumerate(chunks):\n",
    "    selected_items = random.sample(list(chunk), int(max(1, percentage * len(chunk))))\n",
    "    print (\"iteration \", i+1, \": \", selected_items)\n",
    "    # do stuff with selected_items"
   ]
  },
  {
   "cell_type": "code",
   "execution_count": 83,
   "id": "5828052d",
   "metadata": {},
   "outputs": [
    {
     "data": {
      "text/plain": [
       "[1,\n",
       " 2,\n",
       " 3,\n",
       " 4,\n",
       " 5,\n",
       " 6,\n",
       " 7,\n",
       " 8,\n",
       " 9,\n",
       " 10,\n",
       " 11,\n",
       " 12,\n",
       " 13,\n",
       " 14,\n",
       " 15,\n",
       " 16,\n",
       " 17,\n",
       " 18,\n",
       " 19,\n",
       " 20,\n",
       " 21,\n",
       " 22,\n",
       " 23,\n",
       " 24,\n",
       " 25]"
      ]
     },
     "execution_count": 83,
     "metadata": {},
     "output_type": "execute_result"
    }
   ],
   "source": [
    "my_array"
   ]
  },
  {
   "cell_type": "code",
   "execution_count": 87,
   "id": "1a3ab67a",
   "metadata": {},
   "outputs": [
    {
     "ename": "ModuleNotFoundError",
     "evalue": "No module named 'Math'",
     "output_type": "error",
     "traceback": [
      "\u001b[0;31m---------------------------------------------------------------------------\u001b[0m",
      "\u001b[0;31mModuleNotFoundError\u001b[0m                       Traceback (most recent call last)",
      "\u001b[0;32m<ipython-input-87-7c9e77e66750>\u001b[0m in \u001b[0;36m<module>\u001b[0;34m\u001b[0m\n\u001b[0;32m----> 1\u001b[0;31m \u001b[0;32mimport\u001b[0m \u001b[0mMath\u001b[0m\u001b[0;34m\u001b[0m\u001b[0;34m\u001b[0m\u001b[0m\n\u001b[0m\u001b[1;32m      2\u001b[0m \u001b[0mprint\u001b[0m\u001b[0;34m(\u001b[0m\u001b[0mMath\u001b[0m\u001b[0;34m.\u001b[0m\u001b[0mfloor\u001b[0m\u001b[0;34m(\u001b[0m\u001b[0;34m(\u001b[0m\u001b[0mmy_array\u001b[0m\u001b[0;34m.\u001b[0m\u001b[0mlength\u001b[0m\u001b[0;34m-\u001b[0m\u001b[0;36m1\u001b[0m\u001b[0;34m)\u001b[0m \u001b[0;34m*\u001b[0m \u001b[0mpercentage\u001b[0m\u001b[0;34m)\u001b[0m\u001b[0;34m)\u001b[0m\u001b[0;34m\u001b[0m\u001b[0;34m\u001b[0m\u001b[0m\n",
      "\u001b[0;31mModuleNotFoundError\u001b[0m: No module named 'Math'"
     ]
    }
   ],
   "source": [
    "import Math\n",
    "print(Math.floor((my_array.length-1) * percentage))"
   ]
  },
  {
   "cell_type": "code",
   "execution_count": 96,
   "id": "239f42e1",
   "metadata": {},
   "outputs": [
    {
     "data": {
      "text/plain": [
       "[1, 2, 3, 4, 5, 6, 7, 8, 9, 10, 11, 12]"
      ]
     },
     "execution_count": 96,
     "metadata": {},
     "output_type": "execute_result"
    }
   ],
   "source": [
    "my_array[0:int(len(my_array)*percentage)]"
   ]
  },
  {
   "cell_type": "code",
   "execution_count": 98,
   "id": "4b67087e",
   "metadata": {},
   "outputs": [
    {
     "ename": "SyntaxError",
     "evalue": "invalid syntax (<ipython-input-98-0ea18ff0ffc1>, line 1)",
     "output_type": "error",
     "traceback": [
      "\u001b[0;36m  File \u001b[0;32m\"<ipython-input-98-0ea18ff0ffc1>\"\u001b[0;36m, line \u001b[0;32m1\u001b[0m\n\u001b[0;31m    for i in range(0, len(my_array), int(len(my_array)*percentage))\u001b[0m\n\u001b[0m                                                                   ^\u001b[0m\n\u001b[0;31mSyntaxError\u001b[0m\u001b[0;31m:\u001b[0m invalid syntax\n"
     ]
    }
   ],
   "source": [
    "for i in range(0, len(my_array), int(len(my_array)*percentage))"
   ]
  },
  {
   "cell_type": "code",
   "execution_count": 128,
   "id": "2266edce",
   "metadata": {},
   "outputs": [
    {
     "ename": "TypeError",
     "evalue": "random_sample() takes at most 1 positional argument (2 given)",
     "output_type": "error",
     "traceback": [
      "\u001b[0;31m---------------------------------------------------------------------------\u001b[0m",
      "\u001b[0;31mTypeError\u001b[0m                                 Traceback (most recent call last)",
      "\u001b[0;32m<ipython-input-128-3126c4cc705f>\u001b[0m in \u001b[0;36m<module>\u001b[0;34m\u001b[0m\n\u001b[1;32m      2\u001b[0m \u001b[0mchunks\u001b[0m \u001b[0;34m=\u001b[0m \u001b[0mnp\u001b[0m\u001b[0;34m.\u001b[0m\u001b[0marray_split\u001b[0m\u001b[0;34m(\u001b[0m\u001b[0mmy_array\u001b[0m\u001b[0;34m,\u001b[0m \u001b[0;36m5\u001b[0m\u001b[0;34m)\u001b[0m\u001b[0;34m\u001b[0m\u001b[0;34m\u001b[0m\u001b[0m\n\u001b[1;32m      3\u001b[0m \u001b[0;32mfor\u001b[0m \u001b[0mi\u001b[0m\u001b[0;34m,\u001b[0m \u001b[0mchunk\u001b[0m \u001b[0;32min\u001b[0m \u001b[0menumerate\u001b[0m\u001b[0;34m(\u001b[0m\u001b[0mchunks\u001b[0m\u001b[0;34m)\u001b[0m\u001b[0;34m:\u001b[0m\u001b[0;34m\u001b[0m\u001b[0;34m\u001b[0m\u001b[0m\n\u001b[0;32m----> 4\u001b[0;31m     \u001b[0mselected_items\u001b[0m \u001b[0;34m=\u001b[0m \u001b[0mrandom\u001b[0m\u001b[0;34m.\u001b[0m\u001b[0msample\u001b[0m\u001b[0;34m(\u001b[0m\u001b[0mlist\u001b[0m\u001b[0;34m(\u001b[0m\u001b[0mchunk\u001b[0m\u001b[0;34m)\u001b[0m\u001b[0;34m,\u001b[0m \u001b[0mint\u001b[0m\u001b[0;34m(\u001b[0m\u001b[0mmax\u001b[0m\u001b[0;34m(\u001b[0m\u001b[0;36m1\u001b[0m\u001b[0;34m,\u001b[0m \u001b[0mpercentage\u001b[0m \u001b[0;34m*\u001b[0m \u001b[0mlen\u001b[0m\u001b[0;34m(\u001b[0m\u001b[0mchunk\u001b[0m\u001b[0;34m)\u001b[0m\u001b[0;34m)\u001b[0m\u001b[0;34m)\u001b[0m\u001b[0;34m)\u001b[0m\u001b[0;34m\u001b[0m\u001b[0;34m\u001b[0m\u001b[0m\n\u001b[0m\u001b[1;32m      5\u001b[0m     \u001b[0mprint\u001b[0m \u001b[0;34m(\u001b[0m\u001b[0;34m\"iteration \"\u001b[0m\u001b[0;34m,\u001b[0m \u001b[0mi\u001b[0m\u001b[0;34m+\u001b[0m\u001b[0;36m1\u001b[0m\u001b[0;34m,\u001b[0m \u001b[0;34m\": \"\u001b[0m\u001b[0;34m,\u001b[0m \u001b[0mselected_items\u001b[0m\u001b[0;34m)\u001b[0m\u001b[0;34m\u001b[0m\u001b[0;34m\u001b[0m\u001b[0m\n\u001b[1;32m      6\u001b[0m     \u001b[0;31m# do stuff with selected_items\u001b[0m\u001b[0;34m\u001b[0m\u001b[0;34m\u001b[0m\u001b[0;34m\u001b[0m\u001b[0m\n",
      "\u001b[0;32mmtrand.pyx\u001b[0m in \u001b[0;36mnumpy.random.mtrand.sample\u001b[0;34m()\u001b[0m\n",
      "\u001b[0;32mmtrand.pyx\u001b[0m in \u001b[0;36mnumpy.random.mtrand.RandomState.random_sample\u001b[0;34m()\u001b[0m\n",
      "\u001b[0;31mTypeError\u001b[0m: random_sample() takes at most 1 positional argument (2 given)"
     ]
    }
   ],
   "source": [
    "import numpy as np\n",
    "chunks = np.array_split(my_array, 5)\n",
    "for i, chunk in enumerate(chunks):\n",
    "    selected_items = random.sample(list(chunk), int(max(1, percentage * len(chunk))))\n",
    "    print (\"iteration \", i+1, \": \", selected_items)\n",
    "    # do stuff with selected_items"
   ]
  },
  {
   "cell_type": "code",
   "execution_count": 119,
   "id": "504efd57",
   "metadata": {},
   "outputs": [
    {
     "name": "stdout",
     "output_type": "stream",
     "text": [
      "[1, 2, 3, 4]\n",
      "[5, 6, 7, 8]\n",
      "[9, 10, 11, 12]\n",
      "[13, 14, 15, 16]\n",
      "[17, 18, 19, 20]\n"
     ]
    }
   ],
   "source": [
    "percentage = 0.2\n",
    "my_array = [1,2,3,4,5,6,7,8,9,10,11,12,13,14,15,16,17,18,19,20]\n",
    "\n",
    "windowsize = (len(my_array)*percentage)\n",
    "if windowsize.is_integer():     \n",
    "    for i in range(0, len(my_array), int(windowsize)):\n",
    "        print(my_array[i: i+int(windowsize)]) \n",
    "else:     \n",
    "    print('Can not divide in equal chunk') "
   ]
  },
  {
   "cell_type": "code",
   "execution_count": 106,
   "id": "949d4a69",
   "metadata": {},
   "outputs": [
    {
     "data": {
      "text/plain": [
       "0.5"
      ]
     },
     "execution_count": 106,
     "metadata": {},
     "output_type": "execute_result"
    }
   ],
   "source": [
    "percentage"
   ]
  },
  {
   "cell_type": "code",
   "execution_count": 107,
   "id": "c148d22b",
   "metadata": {},
   "outputs": [
    {
     "data": {
      "text/plain": [
       "12.5"
      ]
     },
     "execution_count": 107,
     "metadata": {},
     "output_type": "execute_result"
    }
   ],
   "source": [
    "windowsize"
   ]
  },
  {
   "cell_type": "code",
   "execution_count": 129,
   "id": "d155e3cb",
   "metadata": {},
   "outputs": [
    {
     "name": "stdout",
     "output_type": "stream",
     "text": [
      "[1, 2, 3, 4]\n",
      "[5, 6, 7, 8]\n",
      "[9, 10, 11, 12]\n",
      "[13, 14, 15, 16]\n",
      "[17, 18, 19, 20]\n",
      "[21, 23, 24]\n"
     ]
    }
   ],
   "source": [
    "percentage = 0.2\n",
    "my_array = [1,2,3,4,5,6,7,8,9,10,11,12,13,14,15,16,17,18,19,20,21,23,24]\n",
    "\n",
    "windowsize = (len(my_array)*percentage)    \n",
    "for i in range(0, len(my_array), int(windowsize)):\n",
    "    print(my_array[i: i+int(windowsize)]) \n"
   ]
  },
  {
   "cell_type": "code",
   "execution_count": 131,
   "id": "6dbb4af0",
   "metadata": {},
   "outputs": [
    {
     "name": "stdout",
     "output_type": "stream",
     "text": [
      "[9, 14, 16, 3]\n",
      "[21, 10, 24, 6]\n",
      "[19, 4, 1, 17]\n",
      "[18, 7, 5, 2]\n",
      "[13, 15, 8, 11]\n",
      "[23, 20, 12]\n"
     ]
    }
   ],
   "source": [
    "shuffle(my_array)\n",
    "windowsize = (len(my_array)*percentage)    \n",
    "for i in range(0, len(my_array), int(windowsize)):\n",
    "    print(my_array[i: i+int(windowsize)]) "
   ]
  },
  {
   "cell_type": "code",
   "execution_count": null,
   "id": "08095af6",
   "metadata": {},
   "outputs": [],
   "source": []
  }
 ],
 "metadata": {
  "kernelspec": {
   "display_name": "Python 3",
   "language": "python",
   "name": "python3"
  },
  "language_info": {
   "codemirror_mode": {
    "name": "ipython",
    "version": 3
   },
   "file_extension": ".py",
   "mimetype": "text/x-python",
   "name": "python",
   "nbconvert_exporter": "python",
   "pygments_lexer": "ipython3",
   "version": "3.8.8"
  }
 },
 "nbformat": 4,
 "nbformat_minor": 5
}
